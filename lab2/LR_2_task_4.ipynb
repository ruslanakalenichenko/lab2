{
 "cells": [
  {
   "cell_type": "code",
   "execution_count": 1,
   "id": "1dfc0df9-2e9e-4cbc-9d25-85cc1abc9513",
   "metadata": {},
   "outputs": [],
   "source": [
    "import numpy as np\n",
    "import matplotlib.pyplot as plt\n",
    "from sklearn import preprocessing\n",
    "from sklearn.svm import LinearSVC, SVC\n",
    "from sklearn.multiclass import OneVsRestClassifier\n",
    "from sklearn.model_selection import train_test_split, cross_val_score"
   ]
  },
  {
   "cell_type": "code",
   "execution_count": 2,
   "id": "2e7fa7ef-9edb-49d8-9a43-f0ff7e69b943",
   "metadata": {},
   "outputs": [],
   "source": [
    "input_file = 'income_data.txt'"
   ]
  },
  {
   "cell_type": "code",
   "execution_count": 3,
   "id": "5221a742-985f-477c-a584-ac2044a70139",
   "metadata": {},
   "outputs": [],
   "source": [
    "X = []\n",
    "y = []\n",
    "count_class1 = 0\n",
    "count_class2 = 0\n",
    "max_datapoints = 25000"
   ]
  },
  {
   "cell_type": "code",
   "execution_count": 4,
   "id": "0b7ae9c3-60bb-4a39-bcc4-290c4a246edf",
   "metadata": {},
   "outputs": [],
   "source": [
    "with open(input_file, 'r') as f:\n",
    "    for line in f.readlines():\n",
    "        if count_class1 >= max_datapoints and count_class2 >= max_datapoints:\n",
    "            break\n",
    "\n",
    "        if '?' in line:\n",
    "            continue\n",
    "\n",
    "        data = line[:-1].split(',')\n",
    "        # print(data)\n",
    "\n",
    "        if data[-1] == ' <=50K' and count_class1 < max_datapoints:\n",
    "            X.append(data)\n",
    "            count_class1 += 1\n",
    "\n",
    "        if data[-1] == ' >50K' and count_class2 < max_datapoints:\n",
    "            X.append(data)\n",
    "            count_class2 += 1"
   ]
  },
  {
   "cell_type": "code",
   "execution_count": 5,
   "id": "8cbf9902-8990-45c1-a010-74c35681ca5f",
   "metadata": {},
   "outputs": [],
   "source": [
    "X = np.array(X)"
   ]
  },
  {
   "cell_type": "code",
   "execution_count": 6,
   "id": "b06da076-96b6-4b06-a2d1-fa4fb1477316",
   "metadata": {},
   "outputs": [],
   "source": [
    "label_encoder = []\n",
    "X_encoded = np.empty(X.shape)\n",
    "for i, item in enumerate(X[0]):\n",
    "    if item.isdigit():\n",
    "        X_encoded[:, i] = X[:, i]\n",
    "    else:\n",
    "        label_encoder.append(preprocessing.LabelEncoder())\n",
    "        X_encoded[:, i] = label_encoder[-1].fit_transform(X[:, i])\n",
    "\n",
    "X = X_encoded[:, :-1].astype(int)\n",
    "y = X_encoded[:, -1].astype(int)"
   ]
  },
  {
   "cell_type": "code",
   "execution_count": 7,
   "id": "fda776d9-42bb-41e7-8b49-1e64939737e5",
   "metadata": {},
   "outputs": [],
   "source": [
    "classifiers = {\n",
    "    'Linear SVM': LinearSVC(random_state=0),\n",
    "    'RBF SVM': SVC(kernel='rbf', random_state=0),\n",
    "    'Poly SVM (degree=3)': SVC(kernel='poly', degree=3, random_state=0),\n",
    "    'Sigmoid SVM': SVC(kernel='sigmoid', random_state=0)\n",
    "}"
   ]
  },
  {
   "cell_type": "code",
   "execution_count": 8,
   "id": "77df6dc0-56c3-4cca-93a8-a84b3fb7ae9b",
   "metadata": {},
   "outputs": [],
   "source": [
    "from sklearn.metrics import accuracy_score, precision_score, recall_score, f1_score"
   ]
  },
  {
   "cell_type": "code",
   "execution_count": 9,
   "id": "7e5c8167-0fc9-41b9-8956-a5b86c7e949c",
   "metadata": {},
   "outputs": [
    {
     "name": "stdout",
     "output_type": "stream",
     "text": [
      "\n",
      "Classifier: Linear SVM\n",
      "Акуратність: 78.34%\n",
      "Точність: 76.88%\n",
      "Повнота: 78.34%\n",
      "F1: 74.32%\n",
      "----------------------------------------\n",
      "\n",
      "Classifier: RBF SVM\n",
      "Акуратність: 74.64%\n",
      "Точність: 55.71%\n",
      "Повнота: 74.64%\n",
      "F1: 63.80%\n",
      "----------------------------------------\n",
      "\n",
      "Classifier: Poly SVM (degree=3)\n",
      "Акуратність: 74.64%\n",
      "Точність: 55.71%\n",
      "Повнота: 74.64%\n",
      "F1: 63.80%\n",
      "----------------------------------------\n",
      "\n",
      "Classifier: Sigmoid SVM\n",
      "Акуратність: 63.82%\n",
      "Точність: 63.56%\n",
      "Повнота: 63.82%\n",
      "F1: 63.68%\n",
      "----------------------------------------\n"
     ]
    }
   ],
   "source": [
    "for classifier in classifiers.items():\n",
    "    print(f'\\nClassifier: {classifier[0]}')\n",
    "    clf = OneVsRestClassifier(classifier[1])\n",
    "    X_train, X_test, y_train, y_test = train_test_split(X, y, test_size=0.2, random_state=42)\n",
    "    clf.fit(X_train, y_train)\n",
    "    y_test_pred = clf.predict(X_test)\n",
    "    \n",
    "    accuracy = accuracy_score(y_test, y_test_pred)\n",
    "    precision = precision_score(y_test, y_test_pred, average='weighted', zero_division=0)\n",
    "    recall = recall_score(y_test, y_test_pred, average='weighted')\n",
    "    f1 = f1_score(y_test, y_test_pred, average='weighted')\n",
    "\n",
    "    print(f'Акуратність: {accuracy*100:.2f}%')\n",
    "    print(f'Точність: {precision*100:.2f}%')\n",
    "    print(f'Повнота: {recall*100:.2f}%')\n",
    "    print(f'F1: {f1*100:.2f}%')\n",
    "    print('-' * 40)"
   ]
  },
  {
   "cell_type": "code",
   "execution_count": 10,
   "id": "16e425fa-2638-4f00-8c48-6e39c8eea56b",
   "metadata": {},
   "outputs": [],
   "source": [
    "input_data = ['37', ' Private', ' 215646', ' HS-grad', ' 9', ' Never-married', ' Handlers-cleaners', ' Not-in-family', ' White', ' Male', ' 0', ' 0', ' 40', ' United-States']"
   ]
  },
  {
   "cell_type": "code",
   "execution_count": 11,
   "id": "357046da-f6f1-47ea-afd3-54642e991a1e",
   "metadata": {},
   "outputs": [],
   "source": [
    "input_data_encoded = [-1] * len(input_data)\n",
    "count = 0\n",
    "for i, item in enumerate(input_data):\n",
    "    if item.isdigit():\n",
    "        input_data_encoded[i] = int(item)\n",
    "    else:\n",
    "        input_data_encoded[i] = label_encoder[count].transform([item])[0]\n",
    "        count += 1\n",
    "\n",
    "input_data_encoded = np.array(input_data_encoded).reshape(1, -1)"
   ]
  },
  {
   "cell_type": "code",
   "execution_count": 12,
   "id": "35a6acfd-5722-4587-b149-0c147bebfac6",
   "metadata": {},
   "outputs": [
    {
     "name": "stdout",
     "output_type": "stream",
     "text": [
      "\n",
      "Classifier: LinearSVC\n",
      " <=50K\n",
      "\n",
      "Classifier: SVC\n",
      " <=50K\n",
      "\n",
      "Classifier: SVC\n",
      " <=50K\n",
      "\n",
      "Classifier: SVC\n",
      " <=50K\n"
     ]
    }
   ],
   "source": [
    "for classifier in classifiers.values():\n",
    "    print(f'\\nClassifier: {classifier.__class__.__name__}')\n",
    "    classifier.fit(X, y)\n",
    "    predicted_class = classifier.predict(input_data_encoded)\n",
    "    print(label_encoder[-1].inverse_transform(predicted_class)[0])"
   ]
  },
  {
   "cell_type": "code",
   "execution_count": 13,
   "id": "432d7cdd-c356-40e6-a5e6-7b34fe37ffb7",
   "metadata": {},
   "outputs": [],
   "source": [
    "from sklearn.multiclass import OneVsRestClassifier\n",
    "from sklearn.linear_model import LogisticRegression \n",
    "from sklearn.tree import DecisionTreeClassifier \n",
    "from sklearn.neighbors import KNeighborsClassifier \n",
    "from sklearn.discriminant_analysis import LinearDiscriminantAnalysis \n",
    "from sklearn.naive_bayes import GaussianNB \n",
    "from sklearn.svm import SVC\n",
    "from sklearn.model_selection import StratifiedKFold "
   ]
  },
  {
   "cell_type": "code",
   "execution_count": 14,
   "id": "b1d8fc76-99e6-4758-ab30-7680a7fbc5a8",
   "metadata": {},
   "outputs": [
    {
     "name": "stdout",
     "output_type": "stream",
     "text": [
      "Logistic Regression: 0.778896 (0.008215)\n",
      "Decision Tree: 0.799245 (0.008474)\n",
      "K-Nearest Neighbors: 0.745534 (0.007496)\n",
      "Linear Discriminant Analysis: 0.780927 (0.006017)\n",
      "Gaussian Naive Bayes: 0.797132 (0.006025)\n"
     ]
    }
   ],
   "source": [
    "models = {\n",
    "    'Logistic Regression': OneVsRestClassifier(LogisticRegression(solver='liblinear')),\n",
    "    'Decision Tree': DecisionTreeClassifier(random_state=0),\n",
    "    'K-Nearest Neighbors': KNeighborsClassifier(),\n",
    "    'Linear Discriminant Analysis': LinearDiscriminantAnalysis(),\n",
    "    'Gaussian Naive Bayes': GaussianNB(),\n",
    "    # 'Support Vector Classifier': SVC(gamma='auto') дуже повільно\n",
    "}\n",
    "\n",
    "results = []\n",
    "names = []\n",
    "\n",
    "for name, model in models.items():\n",
    "    kfold = StratifiedKFold(n_splits=10, shuffle=True, random_state=1)\n",
    "    cv_results = cross_val_score(model, X_train, y_train, cv=kfold, scoring='accuracy')\n",
    "    results.append(cv_results)\n",
    "    names.append(name)\n",
    "    msg = \"%s: %f (%f)\" % (name, cv_results.mean(), cv_results.std())\n",
    "    print(msg)"
   ]
  },
  {
   "cell_type": "code",
   "execution_count": 15,
   "id": "fa6da795-5597-4eb2-9d8b-fd2b8149e0ec",
   "metadata": {},
   "outputs": [
    {
     "data": {
      "image/png": "[encoded data removed]",
      "text/plain": [
       "<Figure size 640x480 with 1 Axes>"
      ]
     },
     "metadata": {},
     "output_type": "display_data"
    }
   ],
   "source": [
    "plt.boxplot(results, tick_labels=names)\n",
    "plt.title('Algorithm Comparison')\n",
    "plt.ylabel('Accuracy')\n",
    "plt.show()"
   ]
  },
  {
   "cell_type": "code",
   "execution_count": null,
   "id": "b173c281-1647-46d8-9802-5b4abdcabc2d",
   "metadata": {},
   "outputs": [],
   "source": []
  }
 ],
 "metadata": {
  "kernelspec": {
   "display_name": "Python 3 (ipykernel)",
   "language": "python",
   "name": "python3"
  },
  "language_info": {
   "codemirror_mode": {
    "name": "ipython",
    "version": 3
   },
   "file_extension": ".py",
   "mimetype": "text/x-python",
   "name": "python",
   "nbconvert_exporter": "python",
   "pygments_lexer": "ipython3",
   "version": "3.12.7"
  }
 },
 "nbformat": 4,
 "nbformat_minor": 5
}
