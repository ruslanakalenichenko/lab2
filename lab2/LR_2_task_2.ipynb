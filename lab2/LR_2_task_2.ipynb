{
 "cells": [
  {
   "cell_type": "code",
   "execution_count": 1,
   "id": "b61b57bf-3be7-4611-8655-b61bd976d7a5",
   "metadata": {},
   "outputs": [],
   "source": [
    "import numpy as np\n",
    "import matplotlib.pyplot as plt\n",
    "from sklearn import preprocessing\n",
    "from sklearn.svm import LinearSVC, SVC\n",
    "from sklearn.multiclass import OneVsRestClassifier\n",
    "from sklearn.model_selection import train_test_split, cross_val_score"
   ]
  },
  {
   "cell_type": "code",
   "execution_count": 2,
   "id": "e8811bc5-995d-4bf0-9162-ae8640da7d58",
   "metadata": {},
   "outputs": [],
   "source": [
    "input_file = 'income_data.txt'"
   ]
  },
  {
   "cell_type": "code",
   "execution_count": 3,
   "id": "d2d66f9e-8bab-43f7-9d2e-7c94db68e528",
   "metadata": {},
   "outputs": [],
   "source": [
    "X = []\n",
    "y = []\n",
    "count_class1 = 0\n",
    "count_class2 = 0\n",
    "max_datapoints = 25000"
   ]
  },
  {
   "cell_type": "code",
   "execution_count": 4,
   "id": "731059e4-d6af-4ec1-aa8a-7e870f69ffa0",
   "metadata": {},
   "outputs": [],
   "source": [
    "with open(input_file, 'r') as f:\n",
    "    for line in f.readlines():\n",
    "        if count_class1 >= max_datapoints and count_class2 >= max_datapoints:\n",
    "            break\n",
    "\n",
    "        if '?' in line:\n",
    "            continue\n",
    "\n",
    "        data = line[:-1].split(',')\n",
    "        # print(data)\n",
    "\n",
    "        if data[-1] == ' <=50K' and count_class1 < max_datapoints:\n",
    "            X.append(data)\n",
    "            count_class1 += 1\n",
    "\n",
    "        if data[-1] == ' >50K' and count_class2 < max_datapoints:\n",
    "            X.append(data)\n",
    "            count_class2 += 1"
   ]
  },
  {
   "cell_type": "code",
   "execution_count": 5,
   "id": "391f4cc9-dcbd-4cae-bea7-a37947463699",
   "metadata": {},
   "outputs": [],
   "source": [
    "X = np.array(X)"
   ]
  },
  {
   "cell_type": "code",
   "execution_count": 6,
   "id": "bc65b633-8c6c-47c8-846a-ae96ee00c09b",
   "metadata": {},
   "outputs": [],
   "source": [
    "label_encoder = []\n",
    "X_encoded = np.empty(X.shape)\n",
    "for i, item in enumerate(X[0]):\n",
    "    if item.isdigit():\n",
    "        X_encoded[:, i] = X[:, i]\n",
    "    else:\n",
    "        label_encoder.append(preprocessing.LabelEncoder())\n",
    "        X_encoded[:, i] = label_encoder[-1].fit_transform(X[:, i])\n",
    "\n",
    "X = X_encoded[:, :-1].astype(int)\n",
    "y = X_encoded[:, -1].astype(int)"
   ]
  },
  {
   "cell_type": "code",
   "execution_count": 7,
   "id": "0d1fa75f-0690-4c0f-8626-c2af7b476ff6",
   "metadata": {},
   "outputs": [],
   "source": [
    "classifiers = {\n",
    "    'Linear SVM': LinearSVC(random_state=0),\n",
    "    'RBF SVM': SVC(kernel='rbf', random_state=0),\n",
    "    'Poly SVM (degree=3)': SVC(kernel='poly', degree=3, random_state=0),\n",
    "    'Sigmoid SVM': SVC(kernel='sigmoid', random_state=0)\n",
    "}"
   ]
  },
  {
   "cell_type": "code",
   "execution_count": 8,
   "id": "9f6c8d0d-422d-4034-ade1-68598be8f225",
   "metadata": {},
   "outputs": [],
   "source": [
    "from sklearn.metrics import accuracy_score, precision_score, recall_score, f1_score"
   ]
  },
  {
   "cell_type": "code",
   "execution_count": 9,
   "id": "9c10276e-c6d4-4aab-bd4a-af798edbc56c",
   "metadata": {},
   "outputs": [
    {
     "name": "stdout",
     "output_type": "stream",
     "text": [
      "\n",
      "Classifier: Linear SVM\n",
      "Акуратність: 78.34%\n",
      "Точність: 76.88%\n",
      "Повнота: 78.34%\n",
      "F1: 74.32%\n",
      "----------------------------------------\n",
      "\n",
      "Classifier: RBF SVM\n",
      "Акуратність: 74.64%\n",
      "Точність: 55.71%\n",
      "Повнота: 74.64%\n",
      "F1: 63.80%\n",
      "----------------------------------------\n",
      "\n",
      "Classifier: Poly SVM (degree=3)\n",
      "Акуратність: 74.64%\n",
      "Точність: 55.71%\n",
      "Повнота: 74.64%\n",
      "F1: 63.80%\n",
      "----------------------------------------\n",
      "\n",
      "Classifier: Sigmoid SVM\n",
      "Акуратність: 63.82%\n",
      "Точність: 63.56%\n",
      "Повнота: 63.82%\n",
      "F1: 63.68%\n",
      "----------------------------------------\n"
     ]
    }
   ],
   "source": [
    "for classifier in classifiers.items():\n",
    "    print(f'\\nClassifier: {classifier[0]}')\n",
    "    clf = OneVsRestClassifier(classifier[1])\n",
    "    X_train, X_test, y_train, y_test = train_test_split(X, y, test_size=0.2, random_state=42)\n",
    "    clf.fit(X_train, y_train)\n",
    "    y_test_pred = clf.predict(X_test)\n",
    "    \n",
    "    accuracy = accuracy_score(y_test, y_test_pred)\n",
    "    precision = precision_score(y_test, y_test_pred, average='weighted', zero_division=0)\n",
    "    recall = recall_score(y_test, y_test_pred, average='weighted')\n",
    "    f1 = f1_score(y_test, y_test_pred, average='weighted')\n",
    "\n",
    "    print(f'Акуратність: {accuracy*100:.2f}%')\n",
    "    print(f'Точність: {precision*100:.2f}%')\n",
    "    print(f'Повнота: {recall*100:.2f}%')\n",
    "    print(f'F1: {f1*100:.2f}%')\n",
    "    print('-' * 40)"
   ]
  },
  {
   "cell_type": "code",
   "execution_count": 10,
   "id": "3dec8b4e-5ba8-4238-8d82-033b066d6595",
   "metadata": {},
   "outputs": [],
   "source": [
    "input_data = ['37', ' Private', ' 215646', ' HS-grad', ' 9', ' Never-married', ' Handlers-cleaners', ' Not-in-family', ' White', ' Male', ' 0', ' 0', ' 40', ' United-States']"
   ]
  },
  {
   "cell_type": "code",
   "execution_count": 11,
   "id": "8361acff-a2ab-4ade-a32c-5a9501ea467e",
   "metadata": {},
   "outputs": [],
   "source": [
    "input_data_encoded = [-1] * len(input_data)\n",
    "count = 0\n",
    "for i, item in enumerate(input_data):\n",
    "    if item.isdigit():\n",
    "        input_data_encoded[i] = int(item)\n",
    "    else:\n",
    "        input_data_encoded[i] = label_encoder[count].transform([item])[0]\n",
    "        count += 1\n",
    "\n",
    "input_data_encoded = np.array(input_data_encoded).reshape(1, -1)"
   ]
  },
  {
   "cell_type": "code",
   "execution_count": 12,
   "id": "93f5f816-e038-4ff7-92bf-06ce2f740f80",
   "metadata": {},
   "outputs": [
    {
     "name": "stdout",
     "output_type": "stream",
     "text": [
      "\n",
      "Classifier: LinearSVC\n",
      " <=50K\n",
      "----------------------------------------\n",
      "\n",
      "Classifier: SVC\n",
      " <=50K\n",
      "----------------------------------------\n",
      "\n",
      "Classifier: SVC\n",
      " <=50K\n",
      "----------------------------------------\n",
      "\n",
      "Classifier: SVC\n",
      " <=50K\n",
      "----------------------------------------\n"
     ]
    }
   ],
   "source": [
    "for classifier in classifiers.values():\n",
    "    print(f'\\nClassifier: {classifier.__class__.__name__}')\n",
    "    classifier.fit(X, y)\n",
    "    predicted_class = classifier.predict(input_data_encoded)\n",
    "    print(label_encoder[-1].inverse_transform(predicted_class)[0])\n",
    "    print('-' * 40)"
   ]
  },
  {
   "cell_type": "code",
   "execution_count": null,
   "id": "8471cab5-1541-4f23-bbb9-b0467db43342",
   "metadata": {},
   "outputs": [],
   "source": []
  }
 ],
 "metadata": {
  "kernelspec": {
   "display_name": "Python 3 (ipykernel)",
   "language": "python",
   "name": "python3"
  },
  "language_info": {
   "codemirror_mode": {
    "name": "ipython",
    "version": 3
   },
   "file_extension": ".py",
   "mimetype": "text/x-python",
   "name": "python",
   "nbconvert_exporter": "python",
   "pygments_lexer": "ipython3",
   "version": "3.12.7"
  }
 },
 "nbformat": 4,
 "nbformat_minor": 5
}
